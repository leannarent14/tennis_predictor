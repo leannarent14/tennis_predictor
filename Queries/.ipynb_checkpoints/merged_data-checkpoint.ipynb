{
 "cells": [
  {
   "cell_type": "code",
   "execution_count": 1,
   "id": "c4c0992f",
   "metadata": {},
   "outputs": [],
   "source": [
    "import numpy as np\n",
    "import pandas as pd\n",
    "import os\n",
    "import glob"
   ]
  },
  {
   "cell_type": "code",
   "execution_count": 4,
   "id": "3a262504",
   "metadata": {},
   "outputs": [],
   "source": [
    "path = os.getcwd()\n",
    "csv_files = glob.glob(os.path.join(path, \".csv\"))\n",
    "\n",
    "for i in csv_files:\n",
    "    # read the csv file\n",
    "    df = pd.read_csv(i)\n",
    "      \n",
    "    # print the location and filename\n",
    "    print('Location:', i)\n",
    "    print('File Name:', i.split(\"\\\\\")[-1])\n",
    "      \n",
    "    # print the content\n",
    "    print('Content:')\n",
    "    display(df)\n",
    "    print()"
   ]
  },
  {
   "cell_type": "code",
   "execution_count": null,
   "id": "b151aaf5",
   "metadata": {},
   "outputs": [],
   "source": [
    "/Users/julietahernandez/Desktop/Class_Folder/20-finalProject/tennis_predictor/Resources/original_data"
   ]
  },
  {
   "cell_type": "code",
   "execution_count": null,
   "id": "89367f35",
   "metadata": {},
   "outputs": [],
   "source": [
    "stats_df.head()"
   ]
  }
 ],
 "metadata": {
  "kernelspec": {
   "display_name": "Python 3.7.10 64-bit ('PythonData': conda)",
   "language": "python",
   "name": "python3710jvsc74a57bd0a5387b9da968551e43e0ccab31c37bebadc093c630309dcd510e17231b5b064a"
  },
  "language_info": {
   "codemirror_mode": {
    "name": "ipython",
    "version": 3
   },
   "file_extension": ".py",
   "mimetype": "text/x-python",
   "name": "python",
   "nbconvert_exporter": "python",
   "pygments_lexer": "ipython3",
   "version": "3.7.10"
  }
 },
 "nbformat": 4,
 "nbformat_minor": 5
}
